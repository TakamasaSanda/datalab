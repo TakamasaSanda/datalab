{
 "cells": [
  {
   "cell_type": "code",
   "execution_count": null,
   "metadata": {
    "vscode": {
     "languageId": "plaintext"
    }
   },
   "outputs": [],
   "source": [
    "from google.colab import drive\n",
    "drive.mount('/content/drive')"
   ]
  },
  {
   "cell_type": "code",
   "execution_count": null,
   "metadata": {
    "vscode": {
     "languageId": "plaintext"
    }
   },
   "outputs": [],
   "source": [
    "import pandas as pd\n",
    "import random\n",
    "\n",
    "\n",
    "rawdir = \"content/drive/My Drive/valid/rawdata\"\n",
    "indir = \"content/drive/My Drive/valid/inputdata\"\n",
    "\n",
    "filepath = [\"air_visit_data.csv.zip\"\n",
    "            ,\"date_info.csv.zip\"]"
   ]
  },
  {
   "cell_type": "code",
   "execution_count": null,
   "metadata": {
    "vscode": {
     "languageId": "plaintext"
    }
   },
   "outputs": [],
   "source": [
    "indir = \"/content/drive/My Drive/valid/inputdata\"\n",
    "\n",
    "filepath = [\"air_visit_data.csv\",\n",
    "            \"air_store_info.csv\"]"
   ]
  },
  {
   "cell_type": "code",
   "execution_count": null,
   "metadata": {
    "vscode": {
     "languageId": "plaintext"
    }
   },
   "outputs": [],
   "source": [
    "import polars as pl\n",
    "import os\n",
    "\n",
    "visit_data = pl.read_csv(os.path.join(indir,filepath[0]))\n",
    "info_data = pl.read_csv(os.path.join(indir,filepath[1]))"
   ]
  },
  {
   "cell_type": "code",
   "execution_count": null,
   "metadata": {
    "vscode": {
     "languageId": "plaintext"
    }
   },
   "outputs": [],
   "source": [
    "visit_data.group_by(\"air_store_id\").agg(pl.sum(\"visitors\")).sort(\"visitors\",descending =True)\n",
    "# .sort(\"visitors\")"
   ]
  },
  {
   "cell_type": "code",
   "execution_count": null,
   "metadata": {
    "vscode": {
     "languageId": "plaintext"
    }
   },
   "outputs": [],
   "source": [
    "n_store_df=visit_data.filter(pl.col(\"air_store_id\")==\"air_399904bdb7685ca0\")"
   ]
  },
  {
   "cell_type": "code",
   "execution_count": null,
   "metadata": {
    "vscode": {
     "languageId": "plaintext"
    }
   },
   "outputs": [],
   "source": [
    "n_store_df.describe()"
   ]
  },
  {
   "cell_type": "code",
   "execution_count": null,
   "metadata": {
    "vscode": {
     "languageId": "plaintext"
    }
   },
   "outputs": [],
   "source": [
    "filterd_df=info_data.filter(pl.col(\"air_store_id\")==\"air_399904bdb7685ca0\")"
   ]
  },
  {
   "cell_type": "code",
   "execution_count": null,
   "metadata": {
    "vscode": {
     "languageId": "plaintext"
    }
   },
   "outputs": [],
   "source": [
    "date_info = (\n",
    "    pl.read_csv(os.path.join(indir,\"date_info.csv\"))\n",
    "    .rename({\"calendar_date\": \"visit_date\"})\n",
    "    # .rename(columns={\"calendar_date\": \"visit_date\"})\n",
    "    .drop(\"day_of_week\")\n",
    ")\n",
    "date_info "
   ]
  },
  {
   "cell_type": "code",
   "execution_count": null,
   "metadata": {
    "vscode": {
     "languageId": "plaintext"
    }
   },
   "outputs": [],
   "source": [
    "air_reserve = pl.read_csv(os.path.join(indir,\"air_reserve.csv\")).filter(pl.col(\"air_store_id\")==\"air_399904bdb7685ca0\")\n",
    "# air_reserve\n",
    "# この辺りは特徴量を作成する前準備として、カラムを増やす処理を行っています\n",
    "# 予約の日時から予約日を抽出します\n",
    "air_reserve = air_reserve.with_columns(\n",
    "    pl.col(\"visit_datetime\").cast(pl.String).str.slice(0, 10).alias(\"visit_date\"),\n",
    "    pl.col(\"reserve_datetime\").cast(pl.String).str.slice(0, 10).alias(\"reserve_date\"),\n",
    "    ).with_columns(\n",
    "        pl.col(\"visit_date\").str.to_date().dt.weekday().alias(\"dow\")\n",
    "      )\n",
    "air_reserve\n",
    "# joined_n_store_df"
   ]
  },
  {
   "cell_type": "code",
   "execution_count": null,
   "metadata": {
    "vscode": {
     "languageId": "plaintext"
    }
   },
   "outputs": [],
   "source": [
    "n_store_df = n_store_df.with_columns(\n",
    "    pl.format(\"{}_{}\", pl.col(\"air_store_id\"), pl.col(\"visit_date\")).alias(\"id\"),\n",
    "    pl.col(\"visit_date\").str.to_date().dt.weekday().alias(\"dow\")\n",
    ")\n",
    "    # .str.to_date().dt.weekday().alias(\"dow\")\n",
    "n_store_df\n",
    "# # 訪問者数のデータの店舗のIDと日付の情報からIDを作成します\n",
    "# air_visit_max[\"id\"] = air_visit_max[\"air_store_id\"] + \"_\" + air_visit_max[\"visit_date\"]\n",
    "# # 訪問者数のデータの日付の情報から曜日を抽出します\n",
    "# air_visit_max[\"dow\"] = pd.to_datetime(air_visit_max[\"visit_date\"]).dt.dayofweek"
   ]
  },
  {
   "cell_type": "code",
   "execution_count": null,
   "metadata": {
    "vscode": {
     "languageId": "plaintext"
    }
   },
   "outputs": [],
   "source": [
    "date_info = date_info.with_columns(\n",
    "    pl.col(\"visit_date\").str.to_date().dt.weekday().alias(\"dow\"),\n",
    "    )\n",
    "\n",
    "    # polars と　pandas　で　dt.weekdayの数値が変化する\n",
    "date_info = date_info.with_columns(\n",
    "    (\n",
    "        (pl.col(\"dow\") > 5) | (pl.col(\"holiday_flg\") == 1)\n",
    "    ).cast(pl.Int32).alias(\"holiday_flg2\")\n",
    ")"
   ]
  },
  {
   "cell_type": "code",
   "execution_count": null,
   "metadata": {
    "vscode": {
     "languageId": "plaintext"
    }
   },
   "outputs": [],
   "source": [
    "joined_n_store_df = n_store_df.join(\n",
    "    date_info[[\"visit_date\", \"holiday_flg\", \"holiday_flg2\"]],\n",
    "    on=\"visit_date\",\n",
    "    how=\"left\",\n",
    ")\n",
    "joined_n_store_df.head(7)"
   ]
  },
  {
   "cell_type": "code",
   "execution_count": null,
   "metadata": {
    "vscode": {
     "languageId": "plaintext"
    }
   },
   "outputs": [],
   "source": []
  },
  {
   "cell_type": "code",
   "execution_count": null,
   "metadata": {
    "vscode": {
     "languageId": "plaintext"
    }
   },
   "outputs": [],
   "source": [
    "\n",
    "# 予測対象の訪問数に対数をとった場合の特徴量を作成する\n",
    "train_log, test_log, predictors_log, target_log = feature_engineering(\n",
    "    air_visit_max, air_reserve, date_info, is_log_transform=True\n",
    ")\n",
    "# 予測対象の訪問数から特徴量を作成する\n",
    "train, test, predictors, target = feature_engineering(\n",
    "    air_visit_max, air_reserve, date_info, is_log_transform=False\n",
    ")\n",
    "\n",
    "# LightGBMの学習する際のパラメーター\n",
    "params = {\n",
    "    \"learning_rate\": 0.02,\n",
    "    \"boosting_type\": \"gbdt\",\n",
    "    \"objective\": \"regression\",\n",
    "    \"metric\": \"rmse\",\n",
    "    \"sub_feature\": 0.7,\n",
    "    \"num_leaves\": 60,\n",
    "    \"min_data\": 1,\n",
    "    \"min_hessian\": 1,\n",
    "    \"verbose_eval\": -1,\n",
    "}\n",
    "\n",
    "# 訪問者数に対数をとった場合のデータセットを学習に使う特徴量と目的変数をLightGBM用のDatasetに格納する\n",
    "lgb_train_log = lgb.Dataset(train_log[predictors_log], target_log)\n",
    "# LightGBMを学習する\n",
    "gbm_log = lgb.train(params, lgb_train_log, 1000)\n",
    "# LightGBMのモデルを使って、テスト用の特徴量から訪問者数を予測\n",
    "pred_log = gbm_log.predict(test_log[predictors_log])\n",
    "\n",
    "# 訪問者数のデータセットを学習に使う特徴量と目的変数をLightGBM用のDatasetに格納する\n",
    "lgb_train = lgb.Dataset(train[predictors], target)\n",
    "# LightGBMを学習する\n",
    "gbm = lgb.train(params, lgb_train, 1000)\n",
    "# LightGBMのモデルを使って、テスト用の特徴量から訪問者数を予測\n",
    "pred = gbm.predict(test[predictors])\n",
    "\n",
    "# 教師データである訪問者数に対数をとった場合のデータセットを使って学習したモデルの訪問者数の予測精度を測るためにMean Absolute Errorを求める\n",
    "mae_log = f\"{mean_absolute_error(test['visitors'].values,np.expm1(pred_log)):.3f}\"\n",
    "# 訪問者数のデータセットを使って学習したモデルの訪問者数の予測精度を測るためにMean Absolute Errorを求める\n",
    "mae = f\"{mean_absolute_error(test['visitors'].values,pred):.3f}\"\n",
    "\n",
    "print(pd.DataFrame([[mae_log, mae]], columns=[\"モデル1\", \"モデル2\"], index=[\"mae\"]))"
   ]
  },
  {
   "cell_type": "code",
   "execution_count": null,
   "metadata": {
    "vscode": {
     "languageId": "plaintext"
    }
   },
   "outputs": [],
   "source": []
  },
  {
   "cell_type": "code",
   "execution_count": null,
   "metadata": {
    "vscode": {
     "languageId": "plaintext"
    }
   },
   "outputs": [],
   "source": []
  }
 ],
 "metadata": {
  "language_info": {
   "name": "python"
  }
 },
 "nbformat": 4,
 "nbformat_minor": 2
}
